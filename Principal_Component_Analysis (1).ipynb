{
 "cells": [
  {
   "cell_type": "markdown",
   "metadata": {},
   "source": [
    "<h2 align=center> Principal Component Analysis</h2>"
   ]
  },
  {
   "cell_type": "markdown",
   "metadata": {},
   "source": [
    " "
   ]
  },
  {
   "cell_type": "markdown",
   "metadata": {},
   "source": [
    "### Task 2: Load the Data and Libraries\n",
    "---"
   ]
  },
  {
   "cell_type": "code",
   "execution_count": 1,
   "metadata": {},
   "outputs": [],
   "source": [
    "%matplotlib inline\n",
    "import pandas as pd\n",
    "import matplotlib.pyplot as plt\n",
    "import numpy as np\n",
    "import seaborn as sns"
   ]
  },
  {
   "cell_type": "code",
   "execution_count": 2,
   "metadata": {},
   "outputs": [],
   "source": [
    "plt.style.use(\"ggplot\")\n",
    "plt.rcParams[\"figure.figsize\"] = (12,8)"
   ]
  },
  {
   "cell_type": "code",
   "execution_count": 3,
   "metadata": {},
   "outputs": [],
   "source": [
    "# data URL: https://archive.ics.uci.edu/ml/machine-learning-databases/iris/iris.data"
   ]
  },
  {
   "cell_type": "code",
   "execution_count": 4,
   "metadata": {},
   "outputs": [
    {
     "name": "stdout",
     "output_type": "stream",
     "text": [
      "(150, 5)\n"
     ]
    }
   ],
   "source": [
    "data=pd.read_csv(\"iris_csv.csv\")\n",
    "print(data.shape)"
   ]
  },
  {
   "cell_type": "code",
   "execution_count": 5,
   "metadata": {},
   "outputs": [
    {
     "data": {
      "text/html": [
       "<div>\n",
       "<style scoped>\n",
       "    .dataframe tbody tr th:only-of-type {\n",
       "        vertical-align: middle;\n",
       "    }\n",
       "\n",
       "    .dataframe tbody tr th {\n",
       "        vertical-align: top;\n",
       "    }\n",
       "\n",
       "    .dataframe thead th {\n",
       "        text-align: right;\n",
       "    }\n",
       "</style>\n",
       "<table border=\"1\" class=\"dataframe\">\n",
       "  <thead>\n",
       "    <tr style=\"text-align: right;\">\n",
       "      <th></th>\n",
       "      <th>sepallength</th>\n",
       "      <th>sepalwidth</th>\n",
       "      <th>petallength</th>\n",
       "      <th>petalwidth</th>\n",
       "      <th>class</th>\n",
       "    </tr>\n",
       "  </thead>\n",
       "  <tbody>\n",
       "    <tr>\n",
       "      <th>0</th>\n",
       "      <td>5.1</td>\n",
       "      <td>3.5</td>\n",
       "      <td>1.4</td>\n",
       "      <td>0.2</td>\n",
       "      <td>Iris-setosa</td>\n",
       "    </tr>\n",
       "    <tr>\n",
       "      <th>1</th>\n",
       "      <td>4.9</td>\n",
       "      <td>3.0</td>\n",
       "      <td>1.4</td>\n",
       "      <td>0.2</td>\n",
       "      <td>Iris-setosa</td>\n",
       "    </tr>\n",
       "    <tr>\n",
       "      <th>2</th>\n",
       "      <td>4.7</td>\n",
       "      <td>3.2</td>\n",
       "      <td>1.3</td>\n",
       "      <td>0.2</td>\n",
       "      <td>Iris-setosa</td>\n",
       "    </tr>\n",
       "    <tr>\n",
       "      <th>3</th>\n",
       "      <td>4.6</td>\n",
       "      <td>3.1</td>\n",
       "      <td>1.5</td>\n",
       "      <td>0.2</td>\n",
       "      <td>Iris-setosa</td>\n",
       "    </tr>\n",
       "    <tr>\n",
       "      <th>4</th>\n",
       "      <td>5.0</td>\n",
       "      <td>3.6</td>\n",
       "      <td>1.4</td>\n",
       "      <td>0.2</td>\n",
       "      <td>Iris-setosa</td>\n",
       "    </tr>\n",
       "    <tr>\n",
       "      <th>...</th>\n",
       "      <td>...</td>\n",
       "      <td>...</td>\n",
       "      <td>...</td>\n",
       "      <td>...</td>\n",
       "      <td>...</td>\n",
       "    </tr>\n",
       "    <tr>\n",
       "      <th>145</th>\n",
       "      <td>6.7</td>\n",
       "      <td>3.0</td>\n",
       "      <td>5.2</td>\n",
       "      <td>2.3</td>\n",
       "      <td>Iris-virginica</td>\n",
       "    </tr>\n",
       "    <tr>\n",
       "      <th>146</th>\n",
       "      <td>6.3</td>\n",
       "      <td>2.5</td>\n",
       "      <td>5.0</td>\n",
       "      <td>1.9</td>\n",
       "      <td>Iris-virginica</td>\n",
       "    </tr>\n",
       "    <tr>\n",
       "      <th>147</th>\n",
       "      <td>6.5</td>\n",
       "      <td>3.0</td>\n",
       "      <td>5.2</td>\n",
       "      <td>2.0</td>\n",
       "      <td>Iris-virginica</td>\n",
       "    </tr>\n",
       "    <tr>\n",
       "      <th>148</th>\n",
       "      <td>6.2</td>\n",
       "      <td>3.4</td>\n",
       "      <td>5.4</td>\n",
       "      <td>2.3</td>\n",
       "      <td>Iris-virginica</td>\n",
       "    </tr>\n",
       "    <tr>\n",
       "      <th>149</th>\n",
       "      <td>5.9</td>\n",
       "      <td>3.0</td>\n",
       "      <td>5.1</td>\n",
       "      <td>1.8</td>\n",
       "      <td>Iris-virginica</td>\n",
       "    </tr>\n",
       "  </tbody>\n",
       "</table>\n",
       "<p>150 rows × 5 columns</p>\n",
       "</div>"
      ],
      "text/plain": [
       "     sepallength  sepalwidth  petallength  petalwidth           class\n",
       "0            5.1         3.5          1.4         0.2     Iris-setosa\n",
       "1            4.9         3.0          1.4         0.2     Iris-setosa\n",
       "2            4.7         3.2          1.3         0.2     Iris-setosa\n",
       "3            4.6         3.1          1.5         0.2     Iris-setosa\n",
       "4            5.0         3.6          1.4         0.2     Iris-setosa\n",
       "..           ...         ...          ...         ...             ...\n",
       "145          6.7         3.0          5.2         2.3  Iris-virginica\n",
       "146          6.3         2.5          5.0         1.9  Iris-virginica\n",
       "147          6.5         3.0          5.2         2.0  Iris-virginica\n",
       "148          6.2         3.4          5.4         2.3  Iris-virginica\n",
       "149          5.9         3.0          5.1         1.8  Iris-virginica\n",
       "\n",
       "[150 rows x 5 columns]"
      ]
     },
     "execution_count": 5,
     "metadata": {},
     "output_type": "execute_result"
    }
   ],
   "source": [
    "data"
   ]
  },
  {
   "cell_type": "code",
   "execution_count": 6,
   "metadata": {},
   "outputs": [
    {
     "name": "stdout",
     "output_type": "stream",
     "text": [
      "Index(['sepallength', 'sepalwidth', 'petallength', 'petalwidth', 'class'], dtype='object')\n"
     ]
    }
   ],
   "source": [
    "cols = data.columns\n",
    " \n",
    "print(cols)"
   ]
  },
  {
   "cell_type": "code",
   "execution_count": 7,
   "metadata": {},
   "outputs": [],
   "source": [
    "new = cols[1:4]"
   ]
  },
  {
   "cell_type": "code",
   "execution_count": 8,
   "metadata": {},
   "outputs": [],
   "source": [
    "data1 = data[new]"
   ]
  },
  {
   "cell_type": "code",
   "execution_count": 9,
   "metadata": {},
   "outputs": [
    {
     "data": {
      "text/html": [
       "<div>\n",
       "<style scoped>\n",
       "    .dataframe tbody tr th:only-of-type {\n",
       "        vertical-align: middle;\n",
       "    }\n",
       "\n",
       "    .dataframe tbody tr th {\n",
       "        vertical-align: top;\n",
       "    }\n",
       "\n",
       "    .dataframe thead th {\n",
       "        text-align: right;\n",
       "    }\n",
       "</style>\n",
       "<table border=\"1\" class=\"dataframe\">\n",
       "  <thead>\n",
       "    <tr style=\"text-align: right;\">\n",
       "      <th></th>\n",
       "      <th>sepalwidth</th>\n",
       "      <th>petallength</th>\n",
       "      <th>petalwidth</th>\n",
       "    </tr>\n",
       "  </thead>\n",
       "  <tbody>\n",
       "    <tr>\n",
       "      <th>0</th>\n",
       "      <td>3.5</td>\n",
       "      <td>1.4</td>\n",
       "      <td>0.2</td>\n",
       "    </tr>\n",
       "    <tr>\n",
       "      <th>1</th>\n",
       "      <td>3.0</td>\n",
       "      <td>1.4</td>\n",
       "      <td>0.2</td>\n",
       "    </tr>\n",
       "    <tr>\n",
       "      <th>2</th>\n",
       "      <td>3.2</td>\n",
       "      <td>1.3</td>\n",
       "      <td>0.2</td>\n",
       "    </tr>\n",
       "    <tr>\n",
       "      <th>3</th>\n",
       "      <td>3.1</td>\n",
       "      <td>1.5</td>\n",
       "      <td>0.2</td>\n",
       "    </tr>\n",
       "    <tr>\n",
       "      <th>4</th>\n",
       "      <td>3.6</td>\n",
       "      <td>1.4</td>\n",
       "      <td>0.2</td>\n",
       "    </tr>\n",
       "    <tr>\n",
       "      <th>...</th>\n",
       "      <td>...</td>\n",
       "      <td>...</td>\n",
       "      <td>...</td>\n",
       "    </tr>\n",
       "    <tr>\n",
       "      <th>145</th>\n",
       "      <td>3.0</td>\n",
       "      <td>5.2</td>\n",
       "      <td>2.3</td>\n",
       "    </tr>\n",
       "    <tr>\n",
       "      <th>146</th>\n",
       "      <td>2.5</td>\n",
       "      <td>5.0</td>\n",
       "      <td>1.9</td>\n",
       "    </tr>\n",
       "    <tr>\n",
       "      <th>147</th>\n",
       "      <td>3.0</td>\n",
       "      <td>5.2</td>\n",
       "      <td>2.0</td>\n",
       "    </tr>\n",
       "    <tr>\n",
       "      <th>148</th>\n",
       "      <td>3.4</td>\n",
       "      <td>5.4</td>\n",
       "      <td>2.3</td>\n",
       "    </tr>\n",
       "    <tr>\n",
       "      <th>149</th>\n",
       "      <td>3.0</td>\n",
       "      <td>5.1</td>\n",
       "      <td>1.8</td>\n",
       "    </tr>\n",
       "  </tbody>\n",
       "</table>\n",
       "<p>150 rows × 3 columns</p>\n",
       "</div>"
      ],
      "text/plain": [
       "     sepalwidth  petallength  petalwidth\n",
       "0           3.5          1.4         0.2\n",
       "1           3.0          1.4         0.2\n",
       "2           3.2          1.3         0.2\n",
       "3           3.1          1.5         0.2\n",
       "4           3.6          1.4         0.2\n",
       "..          ...          ...         ...\n",
       "145         3.0          5.2         2.3\n",
       "146         2.5          5.0         1.9\n",
       "147         3.0          5.2         2.0\n",
       "148         3.4          5.4         2.3\n",
       "149         3.0          5.1         1.8\n",
       "\n",
       "[150 rows x 3 columns]"
      ]
     },
     "execution_count": 9,
     "metadata": {},
     "output_type": "execute_result"
    }
   ],
   "source": [
    "data1"
   ]
  },
  {
   "cell_type": "code",
   "execution_count": 10,
   "metadata": {},
   "outputs": [
    {
     "data": {
      "text/html": [
       "<div>\n",
       "<style scoped>\n",
       "    .dataframe tbody tr th:only-of-type {\n",
       "        vertical-align: middle;\n",
       "    }\n",
       "\n",
       "    .dataframe tbody tr th {\n",
       "        vertical-align: top;\n",
       "    }\n",
       "\n",
       "    .dataframe thead th {\n",
       "        text-align: right;\n",
       "    }\n",
       "</style>\n",
       "<table border=\"1\" class=\"dataframe\">\n",
       "  <thead>\n",
       "    <tr style=\"text-align: right;\">\n",
       "      <th></th>\n",
       "      <th>sepallength</th>\n",
       "      <th>sepalwidth</th>\n",
       "      <th>petallength</th>\n",
       "      <th>petalwidth</th>\n",
       "      <th>class</th>\n",
       "    </tr>\n",
       "  </thead>\n",
       "  <tbody>\n",
       "    <tr>\n",
       "      <th>0</th>\n",
       "      <td>5.1</td>\n",
       "      <td>3.5</td>\n",
       "      <td>1.4</td>\n",
       "      <td>0.2</td>\n",
       "      <td>Iris-setosa</td>\n",
       "    </tr>\n",
       "    <tr>\n",
       "      <th>1</th>\n",
       "      <td>4.9</td>\n",
       "      <td>3.0</td>\n",
       "      <td>1.4</td>\n",
       "      <td>0.2</td>\n",
       "      <td>Iris-setosa</td>\n",
       "    </tr>\n",
       "    <tr>\n",
       "      <th>2</th>\n",
       "      <td>4.7</td>\n",
       "      <td>3.2</td>\n",
       "      <td>1.3</td>\n",
       "      <td>0.2</td>\n",
       "      <td>Iris-setosa</td>\n",
       "    </tr>\n",
       "    <tr>\n",
       "      <th>3</th>\n",
       "      <td>4.6</td>\n",
       "      <td>3.1</td>\n",
       "      <td>1.5</td>\n",
       "      <td>0.2</td>\n",
       "      <td>Iris-setosa</td>\n",
       "    </tr>\n",
       "    <tr>\n",
       "      <th>4</th>\n",
       "      <td>5.0</td>\n",
       "      <td>3.6</td>\n",
       "      <td>1.4</td>\n",
       "      <td>0.2</td>\n",
       "      <td>Iris-setosa</td>\n",
       "    </tr>\n",
       "  </tbody>\n",
       "</table>\n",
       "</div>"
      ],
      "text/plain": [
       "   sepallength  sepalwidth  petallength  petalwidth        class\n",
       "0          5.1         3.5          1.4         0.2  Iris-setosa\n",
       "1          4.9         3.0          1.4         0.2  Iris-setosa\n",
       "2          4.7         3.2          1.3         0.2  Iris-setosa\n",
       "3          4.6         3.1          1.5         0.2  Iris-setosa\n",
       "4          5.0         3.6          1.4         0.2  Iris-setosa"
      ]
     },
     "execution_count": 10,
     "metadata": {},
     "output_type": "execute_result"
    }
   ],
   "source": [
    "data.head()"
   ]
  },
  {
   "cell_type": "code",
   "execution_count": 11,
   "metadata": {},
   "outputs": [
    {
     "name": "stdout",
     "output_type": "stream",
     "text": [
      "<class 'pandas.core.frame.DataFrame'>\n",
      "RangeIndex: 150 entries, 0 to 149\n",
      "Data columns (total 5 columns):\n",
      " #   Column       Non-Null Count  Dtype  \n",
      "---  ------       --------------  -----  \n",
      " 0   sepallength  150 non-null    float64\n",
      " 1   sepalwidth   150 non-null    float64\n",
      " 2   petallength  150 non-null    float64\n",
      " 3   petalwidth   150 non-null    float64\n",
      " 4   class        150 non-null    object \n",
      "dtypes: float64(4), object(1)\n",
      "memory usage: 6.0+ KB\n"
     ]
    }
   ],
   "source": [
    "data.info()"
   ]
  },
  {
   "cell_type": "markdown",
   "metadata": {},
   "source": [
    " "
   ]
  },
  {
   "cell_type": "code",
   "execution_count": 12,
   "metadata": {},
   "outputs": [
    {
     "data": {
      "text/html": [
       "<div>\n",
       "<style scoped>\n",
       "    .dataframe tbody tr th:only-of-type {\n",
       "        vertical-align: middle;\n",
       "    }\n",
       "\n",
       "    .dataframe tbody tr th {\n",
       "        vertical-align: top;\n",
       "    }\n",
       "\n",
       "    .dataframe thead th {\n",
       "        text-align: right;\n",
       "    }\n",
       "</style>\n",
       "<table border=\"1\" class=\"dataframe\">\n",
       "  <thead>\n",
       "    <tr style=\"text-align: right;\">\n",
       "      <th></th>\n",
       "      <th>sepallength</th>\n",
       "      <th>sepalwidth</th>\n",
       "      <th>petallength</th>\n",
       "      <th>petalwidth</th>\n",
       "    </tr>\n",
       "  </thead>\n",
       "  <tbody>\n",
       "    <tr>\n",
       "      <th>count</th>\n",
       "      <td>150.000000</td>\n",
       "      <td>150.000000</td>\n",
       "      <td>150.000000</td>\n",
       "      <td>150.000000</td>\n",
       "    </tr>\n",
       "    <tr>\n",
       "      <th>mean</th>\n",
       "      <td>5.843333</td>\n",
       "      <td>3.054000</td>\n",
       "      <td>3.758667</td>\n",
       "      <td>1.198667</td>\n",
       "    </tr>\n",
       "    <tr>\n",
       "      <th>std</th>\n",
       "      <td>0.828066</td>\n",
       "      <td>0.433594</td>\n",
       "      <td>1.764420</td>\n",
       "      <td>0.763161</td>\n",
       "    </tr>\n",
       "    <tr>\n",
       "      <th>min</th>\n",
       "      <td>4.300000</td>\n",
       "      <td>2.000000</td>\n",
       "      <td>1.000000</td>\n",
       "      <td>0.100000</td>\n",
       "    </tr>\n",
       "    <tr>\n",
       "      <th>25%</th>\n",
       "      <td>5.100000</td>\n",
       "      <td>2.800000</td>\n",
       "      <td>1.600000</td>\n",
       "      <td>0.300000</td>\n",
       "    </tr>\n",
       "    <tr>\n",
       "      <th>50%</th>\n",
       "      <td>5.800000</td>\n",
       "      <td>3.000000</td>\n",
       "      <td>4.350000</td>\n",
       "      <td>1.300000</td>\n",
       "    </tr>\n",
       "    <tr>\n",
       "      <th>75%</th>\n",
       "      <td>6.400000</td>\n",
       "      <td>3.300000</td>\n",
       "      <td>5.100000</td>\n",
       "      <td>1.800000</td>\n",
       "    </tr>\n",
       "    <tr>\n",
       "      <th>max</th>\n",
       "      <td>7.900000</td>\n",
       "      <td>4.400000</td>\n",
       "      <td>6.900000</td>\n",
       "      <td>2.500000</td>\n",
       "    </tr>\n",
       "  </tbody>\n",
       "</table>\n",
       "</div>"
      ],
      "text/plain": [
       "       sepallength  sepalwidth  petallength  petalwidth\n",
       "count   150.000000  150.000000   150.000000  150.000000\n",
       "mean      5.843333    3.054000     3.758667    1.198667\n",
       "std       0.828066    0.433594     1.764420    0.763161\n",
       "min       4.300000    2.000000     1.000000    0.100000\n",
       "25%       5.100000    2.800000     1.600000    0.300000\n",
       "50%       5.800000    3.000000     4.350000    1.300000\n",
       "75%       6.400000    3.300000     5.100000    1.800000\n",
       "max       7.900000    4.400000     6.900000    2.500000"
      ]
     },
     "execution_count": 12,
     "metadata": {},
     "output_type": "execute_result"
    }
   ],
   "source": [
    "data.describe()"
   ]
  },
  {
   "cell_type": "code",
   "execution_count": 13,
   "metadata": {},
   "outputs": [
    {
     "data": {
      "text/plain": [
       "Index(['sepallength', 'sepalwidth', 'petallength', 'petalwidth', 'class'], dtype='object')"
      ]
     },
     "execution_count": 13,
     "metadata": {},
     "output_type": "execute_result"
    }
   ],
   "source": [
    "data.columns"
   ]
  },
  {
   "cell_type": "code",
   "execution_count": 14,
   "metadata": {},
   "outputs": [
    {
     "data": {
      "text/plain": [
       "(150, 5)"
      ]
     },
     "execution_count": 14,
     "metadata": {},
     "output_type": "execute_result"
    }
   ],
   "source": [
    "data.shape"
   ]
  },
  {
   "cell_type": "code",
   "execution_count": 15,
   "metadata": {},
   "outputs": [
    {
     "data": {
      "text/plain": [
       "0      5.1\n",
       "1      4.9\n",
       "2      4.7\n",
       "3      4.6\n",
       "4      5.0\n",
       "      ... \n",
       "145    6.7\n",
       "146    6.3\n",
       "147    6.5\n",
       "148    6.2\n",
       "149    5.9\n",
       "Name: sepallength, Length: 150, dtype: float64"
      ]
     },
     "execution_count": 15,
     "metadata": {},
     "output_type": "execute_result"
    }
   ],
   "source": [
    "data['sepallength']"
   ]
  },
  {
   "cell_type": "markdown",
   "metadata": {},
   "source": [
    "### Task 3: Visualize the Data\n",
    "---"
   ]
  },
  {
   "cell_type": "code",
   "execution_count": 16,
   "metadata": {},
   "outputs": [
    {
     "data": {
      "text/plain": [
       "<seaborn.axisgrid.PairGrid at 0x20fba8f24f0>"
      ]
     },
     "execution_count": 16,
     "metadata": {},
     "output_type": "execute_result"
    },
    {
     "data": {
      "image/png": "[encoded data removed]",
      "text/plain": [
       "<Figure size 720x720 with 20 Axes>"
      ]
     },
     "metadata": {},
     "output_type": "display_data"
    }
   ],
   "source": [
    "sns.pairplot(data)"
   ]
  },
  {
   "cell_type": "markdown",
   "metadata": {},
   "source": [
    " "
   ]
  },
  {
   "cell_type": "markdown",
   "metadata": {},
   "source": [
    "### Task 4: Standardize the Data\n",
    "---"
   ]
  },
  {
   "cell_type": "code",
   "execution_count": 17,
   "metadata": {},
   "outputs": [
    {
     "name": "stdout",
     "output_type": "stream",
     "text": [
      "[[ 1.03205722e+00 -1.34127240e+00 -1.31297673e+00]\n",
      " [-1.24957601e-01 -1.34127240e+00 -1.31297673e+00]\n",
      " [ 3.37848329e-01 -1.39813811e+00 -1.31297673e+00]\n",
      " [ 1.06445364e-01 -1.28440670e+00 -1.31297673e+00]\n",
      " [ 1.26346019e+00 -1.34127240e+00 -1.31297673e+00]\n",
      " [ 1.95766909e+00 -1.17067529e+00 -1.05003079e+00]\n",
      " [ 8.00654259e-01 -1.34127240e+00 -1.18150376e+00]\n",
      " [ 8.00654259e-01 -1.28440670e+00 -1.31297673e+00]\n",
      " [-3.56360566e-01 -1.34127240e+00 -1.31297673e+00]\n",
      " [ 1.06445364e-01 -1.28440670e+00 -1.44444970e+00]\n",
      " [ 1.49486315e+00 -1.28440670e+00 -1.31297673e+00]\n",
      " [ 8.00654259e-01 -1.22754100e+00 -1.31297673e+00]\n",
      " [-1.24957601e-01 -1.34127240e+00 -1.44444970e+00]\n",
      " [-1.24957601e-01 -1.51186952e+00 -1.44444970e+00]\n",
      " [ 2.18907205e+00 -1.45500381e+00 -1.31297673e+00]\n",
      " [ 3.11468391e+00 -1.28440670e+00 -1.05003079e+00]\n",
      " [ 1.95766909e+00 -1.39813811e+00 -1.05003079e+00]\n",
      " [ 1.03205722e+00 -1.34127240e+00 -1.18150376e+00]\n",
      " [ 1.72626612e+00 -1.17067529e+00 -1.18150376e+00]\n",
      " [ 1.72626612e+00 -1.28440670e+00 -1.18150376e+00]\n",
      " [ 8.00654259e-01 -1.17067529e+00 -1.31297673e+00]\n",
      " [ 1.49486315e+00 -1.28440670e+00 -1.05003079e+00]\n",
      " [ 1.26346019e+00 -1.56873522e+00 -1.31297673e+00]\n",
      " [ 5.69251294e-01 -1.17067529e+00 -9.18557817e-01]\n",
      " [ 8.00654259e-01 -1.05694388e+00 -1.31297673e+00]\n",
      " [-1.24957601e-01 -1.22754100e+00 -1.31297673e+00]\n",
      " [ 8.00654259e-01 -1.22754100e+00 -1.05003079e+00]\n",
      " [ 1.03205722e+00 -1.28440670e+00 -1.31297673e+00]\n",
      " [ 8.00654259e-01 -1.34127240e+00 -1.31297673e+00]\n",
      " [ 3.37848329e-01 -1.22754100e+00 -1.31297673e+00]\n",
      " [ 1.06445364e-01 -1.22754100e+00 -1.31297673e+00]\n",
      " [ 8.00654259e-01 -1.28440670e+00 -1.05003079e+00]\n",
      " [ 2.42047502e+00 -1.28440670e+00 -1.44444970e+00]\n",
      " [ 2.65187798e+00 -1.34127240e+00 -1.31297673e+00]\n",
      " [ 1.06445364e-01 -1.28440670e+00 -1.44444970e+00]\n",
      " [ 3.37848329e-01 -1.45500381e+00 -1.31297673e+00]\n",
      " [ 1.03205722e+00 -1.39813811e+00 -1.31297673e+00]\n",
      " [ 1.06445364e-01 -1.28440670e+00 -1.44444970e+00]\n",
      " [-1.24957601e-01 -1.39813811e+00 -1.31297673e+00]\n",
      " [ 8.00654259e-01 -1.28440670e+00 -1.31297673e+00]\n",
      " [ 1.03205722e+00 -1.39813811e+00 -1.18150376e+00]\n",
      " [-1.74477836e+00 -1.39813811e+00 -1.18150376e+00]\n",
      " [ 3.37848329e-01 -1.39813811e+00 -1.31297673e+00]\n",
      " [ 1.03205722e+00 -1.22754100e+00 -7.87084847e-01]\n",
      " [ 1.72626612e+00 -1.05694388e+00 -1.05003079e+00]\n",
      " [-1.24957601e-01 -1.34127240e+00 -1.18150376e+00]\n",
      " [ 1.72626612e+00 -1.22754100e+00 -1.31297673e+00]\n",
      " [ 3.37848329e-01 -1.34127240e+00 -1.31297673e+00]\n",
      " [ 1.49486315e+00 -1.28440670e+00 -1.31297673e+00]\n",
      " [ 5.69251294e-01 -1.34127240e+00 -1.31297673e+00]\n",
      " [ 3.37848329e-01  5.35295827e-01  2.64698913e-01]\n",
      " [ 3.37848329e-01  4.21564419e-01  3.96171883e-01]\n",
      " [ 1.06445364e-01  6.49027235e-01  3.96171883e-01]\n",
      " [-1.74477836e+00  1.37235899e-01  1.33225943e-01]\n",
      " [-5.87763531e-01  4.78430123e-01  3.96171883e-01]\n",
      " [-5.87763531e-01  4.21564419e-01  1.33225943e-01]\n",
      " [ 5.69251294e-01  5.35295827e-01  5.27644853e-01]\n",
      " [-1.51337539e+00 -2.60824029e-01 -2.61192967e-01]\n",
      " [-3.56360566e-01  4.78430123e-01  1.33225943e-01]\n",
      " [-8.19166497e-01  8.03701950e-02  2.64698913e-01]\n",
      " [-2.43898725e+00 -1.47092621e-01 -2.61192967e-01]\n",
      " [-1.24957601e-01  2.50967307e-01  3.96171883e-01]\n",
      " [-1.97618132e+00  1.37235899e-01 -2.61192967e-01]\n",
      " [-3.56360566e-01  5.35295827e-01  2.64698913e-01]\n",
      " [-3.56360566e-01 -9.02269170e-02  1.33225943e-01]\n",
      " [ 1.06445364e-01  3.64698715e-01  2.64698913e-01]\n",
      " [-1.24957601e-01  4.21564419e-01  3.96171883e-01]\n",
      " [-8.19166497e-01  1.94101603e-01 -2.61192967e-01]\n",
      " [-1.97618132e+00  4.21564419e-01  3.96171883e-01]\n",
      " [-1.28197243e+00  8.03701950e-02 -1.29719997e-01]\n",
      " [ 3.37848329e-01  5.92161531e-01  7.90590793e-01]\n",
      " [-5.87763531e-01  1.37235899e-01  1.33225943e-01]\n",
      " [-1.28197243e+00  6.49027235e-01  3.96171883e-01]\n",
      " [-5.87763531e-01  5.35295827e-01  1.75297293e-03]\n",
      " [-3.56360566e-01  3.07833011e-01  1.33225943e-01]\n",
      " [-1.24957601e-01  3.64698715e-01  2.64698913e-01]\n",
      " [-5.87763531e-01  5.92161531e-01  2.64698913e-01]\n",
      " [-1.24957601e-01  7.05892939e-01  6.59117823e-01]\n",
      " [-3.56360566e-01  4.21564419e-01  3.96171883e-01]\n",
      " [-1.05056946e+00 -1.47092621e-01 -2.61192967e-01]\n",
      " [-1.51337539e+00  2.35044910e-02 -1.29719997e-01]\n",
      " [-1.51337539e+00 -3.33612130e-02 -2.61192967e-01]\n",
      " [-8.19166497e-01  8.03701950e-02  1.75297293e-03]\n",
      " [-8.19166497e-01  7.62758643e-01  5.27644853e-01]\n",
      " [-1.24957601e-01  4.21564419e-01  3.96171883e-01]\n",
      " [ 8.00654259e-01  4.21564419e-01  5.27644853e-01]\n",
      " [ 1.06445364e-01  5.35295827e-01  3.96171883e-01]\n",
      " [-1.74477836e+00  3.64698715e-01  1.33225943e-01]\n",
      " [-1.24957601e-01  1.94101603e-01  1.33225943e-01]\n",
      " [-1.28197243e+00  1.37235899e-01  1.33225943e-01]\n",
      " [-1.05056946e+00  3.64698715e-01  1.75297293e-03]\n",
      " [-1.24957601e-01  4.78430123e-01  2.64698913e-01]\n",
      " [-1.05056946e+00  1.37235899e-01  1.75297293e-03]\n",
      " [-1.74477836e+00 -2.60824029e-01 -2.61192967e-01]\n",
      " [-8.19166497e-01  2.50967307e-01  1.33225943e-01]\n",
      " [-1.24957601e-01  2.50967307e-01  1.75297293e-03]\n",
      " [-3.56360566e-01  2.50967307e-01  1.33225943e-01]\n",
      " [-3.56360566e-01  3.07833011e-01  1.33225943e-01]\n",
      " [-1.28197243e+00 -4.31421141e-01 -1.29719997e-01]\n",
      " [-5.87763531e-01  1.94101603e-01  1.33225943e-01]\n",
      " [ 5.69251294e-01  1.27454998e+00  1.71090158e+00]\n",
      " [-8.19166497e-01  7.62758643e-01  9.22063763e-01]\n",
      " [-1.24957601e-01  1.21768427e+00  1.18500970e+00]\n",
      " [-3.56360566e-01  1.04708716e+00  7.90590793e-01]\n",
      " [-1.24957601e-01  1.16081857e+00  1.31648267e+00]\n",
      " [-1.24957601e-01  1.61574420e+00  1.18500970e+00]\n",
      " [-1.28197243e+00  4.21564419e-01  6.59117823e-01]\n",
      " [-3.56360566e-01  1.44514709e+00  7.90590793e-01]\n",
      " [-1.28197243e+00  1.16081857e+00  7.90590793e-01]\n",
      " [ 1.26346019e+00  1.33141568e+00  1.71090158e+00]\n",
      " [ 3.37848329e-01  7.62758643e-01  1.05353673e+00]\n",
      " [-8.19166497e-01  8.76490051e-01  9.22063763e-01]\n",
      " [-1.24957601e-01  9.90221459e-01  1.18500970e+00]\n",
      " [-1.28197243e+00  7.05892939e-01  1.05353673e+00]\n",
      " [-5.87763531e-01  7.62758643e-01  1.57942861e+00]\n",
      " [ 3.37848329e-01  8.76490051e-01  1.44795564e+00]\n",
      " [-1.24957601e-01  9.90221459e-01  7.90590793e-01]\n",
      " [ 1.72626612e+00  1.67260991e+00  1.31648267e+00]\n",
      " [-1.05056946e+00  1.78634131e+00  1.44795564e+00]\n",
      " [-1.97618132e+00  7.05892939e-01  3.96171883e-01]\n",
      " [ 3.37848329e-01  1.10395287e+00  1.44795564e+00]\n",
      " [-5.87763531e-01  6.49027235e-01  1.05353673e+00]\n",
      " [-5.87763531e-01  1.67260991e+00  1.05353673e+00]\n",
      " [-8.19166497e-01  6.49027235e-01  7.90590793e-01]\n",
      " [ 5.69251294e-01  1.10395287e+00  1.18500970e+00]\n",
      " [ 3.37848329e-01  1.27454998e+00  7.90590793e-01]\n",
      " [-5.87763531e-01  5.92161531e-01  7.90590793e-01]\n",
      " [-1.24957601e-01  6.49027235e-01  7.90590793e-01]\n",
      " [-5.87763531e-01  1.04708716e+00  1.18500970e+00]\n",
      " [-1.24957601e-01  1.16081857e+00  5.27644853e-01]\n",
      " [-5.87763531e-01  1.33141568e+00  9.22063763e-01]\n",
      " [ 1.72626612e+00  1.50201279e+00  1.05353673e+00]\n",
      " [-5.87763531e-01  1.04708716e+00  1.31648267e+00]\n",
      " [-5.87763531e-01  7.62758643e-01  3.96171883e-01]\n",
      " [-1.05056946e+00  1.04708716e+00  2.64698913e-01]\n",
      " [-1.24957601e-01  1.33141568e+00  1.44795564e+00]\n",
      " [ 8.00654259e-01  1.04708716e+00  1.57942861e+00]\n",
      " [ 1.06445364e-01  9.90221459e-01  7.90590793e-01]\n",
      " [-1.24957601e-01  5.92161531e-01  7.90590793e-01]\n",
      " [ 1.06445364e-01  9.33355755e-01  1.18500970e+00]\n",
      " [ 1.06445364e-01  1.04708716e+00  1.57942861e+00]\n",
      " [ 1.06445364e-01  7.62758643e-01  1.44795564e+00]\n",
      " [-8.19166497e-01  7.62758643e-01  9.22063763e-01]\n",
      " [ 3.37848329e-01  1.21768427e+00  1.44795564e+00]\n",
      " [ 5.69251294e-01  1.10395287e+00  1.71090158e+00]\n",
      " [-1.24957601e-01  8.19624347e-01  1.44795564e+00]\n",
      " [-1.28197243e+00  7.05892939e-01  9.22063763e-01]\n",
      " [-1.24957601e-01  8.19624347e-01  1.05353673e+00]\n",
      " [ 8.00654259e-01  9.33355755e-01  1.44795564e+00]\n",
      " [-1.24957601e-01  7.62758643e-01  7.90590793e-01]]\n"
     ]
    }
   ],
   "source": [
    "from sklearn import preprocessing\n",
    "standard = preprocessing.scale(data1)\n",
    "print(standard)"
   ]
  },
  {
   "cell_type": "code",
   "execution_count": 20,
   "metadata": {},
   "outputs": [
    {
     "ename": "NameError",
     "evalue": "name 'da' is not defined",
     "output_type": "error",
     "traceback": [
      "\u001b[1;31m---------------------------------------------------------------------------\u001b[0m",
      "\u001b[1;31mNameError\u001b[0m                                 Traceback (most recent call last)",
      "\u001b[1;32m<ipython-input-20-7ee212368c91>\u001b[0m in \u001b[0;36m<module>\u001b[1;34m\u001b[0m\n\u001b[1;32m----> 1\u001b[1;33m \u001b[0mprint\u001b[0m\u001b[1;33m(\u001b[0m\u001b[0mda\u001b[0m\u001b[1;33m)\u001b[0m\u001b[1;33m\u001b[0m\u001b[1;33m\u001b[0m\u001b[0m\n\u001b[0m",
      "\u001b[1;31mNameError\u001b[0m: name 'da' is not defined"
     ]
    }
   ],
   "source": [
    "print(da)"
   ]
  },
  {
   "cell_type": "markdown",
   "metadata": {},
   "source": [
    " "
   ]
  },
  {
   "cell_type": "markdown",
   "metadata": {},
   "source": [
    "### Task 5: Compute the Eigenvectors and Eigenvalues\n",
    "---"
   ]
  },
  {
   "cell_type": "markdown",
   "metadata": {},
   "source": [
    "Covariance: $\\sigma_{jk} = \\frac{1}{n-1}\\sum_{i=1}^{N}(x_{ij}-\\bar{x_j})(x_{ik}-\\bar{x_k})$\n",
    "\n",
    "Coviance matrix: $Σ = \\frac{1}{n-1}((X-\\bar{x})^T(X-\\bar{x}))$"
   ]
  },
  {
   "cell_type": "code",
   "execution_count": 18,
   "metadata": {},
   "outputs": [
    {
     "name": "stdout",
     "output_type": "stream",
     "text": [
      "[[ 0.18800403 -0.32171275 -0.11798121]\n",
      " [-0.32171275  3.11317942  1.29638747]\n",
      " [-0.11798121  1.29638747  0.58241432]]\n"
     ]
    }
   ],
   "source": [
    "import numpy as np\n",
    "C = np.cov(data1, rowvar = False)\n",
    "print(C)"
   ]
  },
  {
   "cell_type": "markdown",
   "metadata": {},
   "source": [
    "We can prove this by looking at the covariance matrix. It has the property that it is symmetric. We also constrain the each of the columns (eigenvectors) such that the values sum to one. Thus, they are orthonormal to each other.\n",
    "\n",
    "Eigendecomposition of the covriance matrix:  $Σ = W\\wedge W^{-1}$"
   ]
  },
  {
   "cell_type": "code",
   "execution_count": 19,
   "metadata": {},
   "outputs": [
    {
     "name": "stdout",
     "output_type": "stream",
     "text": [
      "[3.69280268 0.15672972 0.03406536]\n",
      "[[ 0.09720038 -0.98648534 -0.13190438]\n",
      " [-0.91735023 -0.03739575 -0.39632072]\n",
      " [-0.38603191 -0.15952504  0.90858743]]\n"
     ]
    }
   ],
   "source": [
    "\n",
    "eigenvalues,eigenvectors = np.linalg.eig(C)\n",
    "print(eigenvalues)\n",
    "print(eigenvectors)\n",
    "#help(np.linalg.eig)"
   ]
  },
  {
   "cell_type": "code",
   "execution_count": 20,
   "metadata": {},
   "outputs": [
    {
     "data": {
      "image/png": "[encoded data removed]",
      "text/plain": [
       "<Figure size 864x576 with 2 Axes>"
      ]
     },
     "metadata": {},
     "output_type": "display_data"
    }
   ],
   "source": [
    "ax = sns.heatmap(eigenvectors)"
   ]
  },
  {
   "cell_type": "markdown",
   "metadata": {},
   "source": [
    " "
   ]
  },
  {
   "cell_type": "markdown",
   "metadata": {},
   "source": [
    "### Task 6: Singular Value Decomposition (SVD)\n",
    "---"
   ]
  },
  {
   "cell_type": "code",
   "execution_count": 21,
   "metadata": {},
   "outputs": [],
   "source": [
    "from scipy.linalg import svd"
   ]
  },
  {
   "cell_type": "code",
   "execution_count": 22,
   "metadata": {},
   "outputs": [
    {
     "name": "stdout",
     "output_type": "stream",
     "text": [
      "[[-0.04875296  0.13462873 -0.00621206 ... -0.08339341 -0.10155274\n",
      "  -0.07898134]\n",
      " [-0.0443843   0.10875862 -0.02477761 ...  0.0644328   0.04736025\n",
      "   0.06444355]\n",
      " [-0.04489247  0.12217647 -0.00224827 ...  0.07987161  0.17461081\n",
      "   0.01986651]\n",
      " ...\n",
      " [-0.0988776  -0.03925632  0.07875843 ...  0.98255848 -0.02546602\n",
      "  -0.01226688]\n",
      " [-0.10608446 -0.02992688  0.17631373 ... -0.02541867  0.95677744\n",
      "  -0.01434889]\n",
      " [-0.09681607 -0.03270183  0.01858882 ... -0.01234635 -0.0145744\n",
      "   0.98920336]]\n",
      "[63.65071103 15.96580818  2.4555965 ]\n",
      "[[-0.55613627 -0.78881975 -0.26167891]\n",
      " [ 0.82607435 -0.49011999 -0.278179  ]\n",
      " [ 0.09117902 -0.37087167  0.92419727]]\n"
     ]
    }
   ],
   "source": [
    "U, s, VT = svd(data1)\n",
    "print(U)\n",
    "print(s)\n",
    "print(VT)"
   ]
  },
  {
   "cell_type": "markdown",
   "metadata": {},
   "source": [
    " "
   ]
  },
  {
   "cell_type": "markdown",
   "metadata": {},
   "source": [
    "### Task 7: Picking Principal Components Using the Explained Variance\n",
    "---"
   ]
  },
  {
   "cell_type": "code",
   "execution_count": 23,
   "metadata": {},
   "outputs": [
    {
     "name": "stdout",
     "output_type": "stream",
     "text": [
      "3.6928026841615744\n",
      "0.15672971916009068\n",
      "0.03406535954187057\n"
     ]
    }
   ],
   "source": [
    "for val in eigenvalues:\n",
    "    print(val)"
   ]
  },
  {
   "cell_type": "code",
   "execution_count": 25,
   "metadata": {},
   "outputs": [
    {
     "data": {
      "text/plain": [
       "[95.08715654009235, 4.035683629720897, 0.8771598301867594]"
      ]
     },
     "execution_count": 25,
     "metadata": {},
     "output_type": "execute_result"
    }
   ],
   "source": [
    "variance_explained = [(i/sum(eigenvalues))*100 for i in eigenvalues]\n",
    "variance_explained"
   ]
  },
  {
   "cell_type": "code",
   "execution_count": 26,
   "metadata": {},
   "outputs": [
    {
     "data": {
      "text/plain": [
       "array([ 95.08715654,  99.12284017, 100.        ])"
      ]
     },
     "execution_count": 26,
     "metadata": {},
     "output_type": "execute_result"
    }
   ],
   "source": [
    "cumulative_variance_explained = np.cumsum(variance_explained)\n",
    "cumulative_variance_explained"
   ]
  },
  {
   "cell_type": "code",
   "execution_count": 28,
   "metadata": {},
   "outputs": [
    {
     "data": {
      "image/png": "[encoded data removed]",
      "text/plain": [
       "<Figure size 864x576 with 1 Axes>"
      ]
     },
     "metadata": {},
     "output_type": "display_data"
    }
   ],
   "source": [
    "sns.lineplot(x = [1,2,3],y = cumulative_variance_explained);\n",
    "plt.xlabel(\"Number of components\")\n",
    "plt.ylabel(\"Cumulative explained variance\")\n",
    "plt.title(\"Explained variance vs Number of componets\")\n",
    "plt.show()"
   ]
  },
  {
   "cell_type": "markdown",
   "metadata": {},
   "source": [
    " "
   ]
  },
  {
   "cell_type": "markdown",
   "metadata": {},
   "source": [
    "### Task 8: Project Data Onto Lower-Dimensional Linear Subspace\n",
    "---"
   ]
  },
  {
   "cell_type": "code",
   "execution_count": 29,
   "metadata": {},
   "outputs": [
    {
     "data": {
      "text/plain": [
       "array([[ 0.09720038, -0.98648534, -0.13190438],\n",
       "       [-0.91735023, -0.03739575, -0.39632072],\n",
       "       [-0.38603191, -0.15952504,  0.90858743]])"
      ]
     },
     "execution_count": 29,
     "metadata": {},
     "output_type": "execute_result"
    }
   ],
   "source": [
    "eigenvectors"
   ]
  },
  {
   "cell_type": "code",
   "execution_count": 30,
   "metadata": {},
   "outputs": [
    {
     "name": "stdout",
     "output_type": "stream",
     "text": [
      "Projection matrix : \n",
      " [[ 0.09720038 -0.98648534]\n",
      " [-0.91735023 -0.03739575]\n",
      " [-0.38603191 -0.15952504]]\n"
     ]
    }
   ],
   "source": [
    "projection_matrix = (eigenvectors.T[:][:])[:2].T\n",
    "print(\"Projection matrix : \\n\", projection_matrix)"
   ]
  },
  {
   "cell_type": "code",
   "execution_count": 32,
   "metadata": {},
   "outputs": [],
   "source": [
    "X_pca = data1.dot(projection_matrix)"
   ]
  },
  {
   "cell_type": "code",
   "execution_count": 37,
   "metadata": {},
   "outputs": [
    {
     "data": {
      "text/html": [
       "<div>\n",
       "<style scoped>\n",
       "    .dataframe tbody tr th:only-of-type {\n",
       "        vertical-align: middle;\n",
       "    }\n",
       "\n",
       "    .dataframe tbody tr th {\n",
       "        vertical-align: top;\n",
       "    }\n",
       "\n",
       "    .dataframe thead th {\n",
       "        text-align: right;\n",
       "    }\n",
       "</style>\n",
       "<table border=\"1\" class=\"dataframe\">\n",
       "  <thead>\n",
       "    <tr style=\"text-align: right;\">\n",
       "      <th></th>\n",
       "      <th>0</th>\n",
       "      <th>1</th>\n",
       "    </tr>\n",
       "  </thead>\n",
       "  <tbody>\n",
       "    <tr>\n",
       "      <th>0</th>\n",
       "      <td>-1.021295</td>\n",
       "      <td>-3.536958</td>\n",
       "    </tr>\n",
       "    <tr>\n",
       "      <th>1</th>\n",
       "      <td>-1.069896</td>\n",
       "      <td>-3.043715</td>\n",
       "    </tr>\n",
       "    <tr>\n",
       "      <th>2</th>\n",
       "      <td>-0.958720</td>\n",
       "      <td>-3.237273</td>\n",
       "    </tr>\n",
       "    <tr>\n",
       "      <th>3</th>\n",
       "      <td>-1.151911</td>\n",
       "      <td>-3.146103</td>\n",
       "    </tr>\n",
       "    <tr>\n",
       "      <th>4</th>\n",
       "      <td>-1.011575</td>\n",
       "      <td>-3.635606</td>\n",
       "    </tr>\n",
       "    <tr>\n",
       "      <th>...</th>\n",
       "      <td>...</td>\n",
       "      <td>...</td>\n",
       "    </tr>\n",
       "    <tr>\n",
       "      <th>145</th>\n",
       "      <td>-5.366493</td>\n",
       "      <td>-3.520821</td>\n",
       "    </tr>\n",
       "    <tr>\n",
       "      <th>146</th>\n",
       "      <td>-5.077211</td>\n",
       "      <td>-2.956290</td>\n",
       "    </tr>\n",
       "    <tr>\n",
       "      <th>147</th>\n",
       "      <td>-5.250684</td>\n",
       "      <td>-3.472964</td>\n",
       "    </tr>\n",
       "    <tr>\n",
       "      <th>148</th>\n",
       "      <td>-5.511083</td>\n",
       "      <td>-3.922895</td>\n",
       "    </tr>\n",
       "    <tr>\n",
       "      <th>149</th>\n",
       "      <td>-5.081742</td>\n",
       "      <td>-3.437319</td>\n",
       "    </tr>\n",
       "  </tbody>\n",
       "</table>\n",
       "<p>150 rows × 2 columns</p>\n",
       "</div>"
      ],
      "text/plain": [
       "            0         1\n",
       "0   -1.021295 -3.536958\n",
       "1   -1.069896 -3.043715\n",
       "2   -0.958720 -3.237273\n",
       "3   -1.151911 -3.146103\n",
       "4   -1.011575 -3.635606\n",
       "..        ...       ...\n",
       "145 -5.366493 -3.520821\n",
       "146 -5.077211 -2.956290\n",
       "147 -5.250684 -3.472964\n",
       "148 -5.511083 -3.922895\n",
       "149 -5.081742 -3.437319\n",
       "\n",
       "[150 rows x 2 columns]"
      ]
     },
     "execution_count": 37,
     "metadata": {},
     "output_type": "execute_result"
    }
   ],
   "source": [
    "X_pca"
   ]
  },
  {
   "cell_type": "code",
   "execution_count": null,
   "metadata": {},
   "outputs": [],
   "source": []
  }
 ],
 "metadata": {
  "kernelspec": {
   "display_name": "Python 3",
   "language": "python",
   "name": "python3"
  },
  "language_info": {
   "codemirror_mode": {
    "name": "ipython",
    "version": 3
   },
   "file_extension": ".py",
   "mimetype": "text/x-python",
   "name": "python",
   "nbconvert_exporter": "python",
   "pygments_lexer": "ipython3",
   "version": "3.8.5"
  }
 },
 "nbformat": 4,
 "nbformat_minor": 2
}
